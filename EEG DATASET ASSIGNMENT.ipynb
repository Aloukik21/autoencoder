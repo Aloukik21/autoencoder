{
 "cells": [
  {
   "cell_type": "code",
   "execution_count": 26,
   "metadata": {},
   "outputs": [],
   "source": [
    "from sklearn.datasets import load_iris\n",
    "from sklearn import preprocessing\n",
    "from keras.layers import Input, Dense\n",
    "from keras.models import Model#----------------------------------------------IMporting required libraries\n",
    "import numpy as np\n",
    "import pandas as pd\n",
    "import matplotlib.pyplot as plt\n",
    "import numpy as np\n",
    "import matplotlib.pyplot as plt\n",
    "import keras\n",
    "from keras.models import Sequential\n",
    "from keras.datasets import mnist\n",
    "from keras.layers import Dense\n",
    "from keras.optimizers import Adam\n",
    "import random\n",
    "import keras\n",
    "import keras.utils\n",
    "from keras.utils.np_utils import to_categorical \n",
    "from keras import utils as np_utils\n",
    "from sklearn.preprocessing import OneHotEncoder \n",
    "from sklearn.metrics import accuracy_score\n",
    "import time\n",
    "import math\n",
    "%matplotlib inline"
   ]
  },
  {
   "cell_type": "code",
   "execution_count": null,
   "metadata": {},
   "outputs": [],
   "source": []
  },
  {
   "cell_type": "code",
   "execution_count": 27,
   "metadata": {},
   "outputs": [],
   "source": [
    "def sigmoid(x):\n",
    "    return 1 / (1 + math.exp(-x))"
   ]
  },
  {
   "cell_type": "code",
   "execution_count": 28,
   "metadata": {},
   "outputs": [],
   "source": [
    "import load_data#--------------------------------------------Laading training and testing data\n",
    "\n",
    "# return DataSet class\n",
    "data = load_data.read_data_sets(one_hot=True)\n",
    "\n",
    "# get train data and labels by batch size\n",
    "train_x, train_label = data.train.next_batch(58128 )\n",
    "\n",
    "# get test data\n",
    "test_x = data.test.data\n",
    "\n",
    "# get test labels\n",
    "test_labels = data.test.labels\n",
    "\n",
    "# get sample number\n",
    "n_samples = data.train.num_examples"
   ]
  },
  {
   "cell_type": "code",
   "execution_count": 29,
   "metadata": {},
   "outputs": [
    {
     "name": "stdout",
     "output_type": "stream",
     "text": [
      "(58128, 310)\n",
      "(58128, 310)\n",
      "(58128, 3)\n",
      "(58128, 3)\n",
      "[[0.07317903 0.07173882 0.07140528 ... 0.04444753 0.04601037 0.04567384]\n",
      " [0.07316392 0.07171469 0.07138108 ... 0.04445415 0.04600904 0.04566965]\n",
      " [0.07314408 0.07168242 0.07134856 ... 0.04446116 0.04600954 0.04566672]\n",
      " ...\n",
      " [0.07799868 0.07658864 0.07651837 ... 0.04795224 0.04781062 0.05202872]\n",
      " [0.07800001 0.07658923 0.07651755 ... 0.04795351 0.04781252 0.05203095]\n",
      " [0.07799755 0.07658849 0.0765156  ... 0.04795467 0.04781411 0.05203295]]\n",
      "[[0.0735907  0.07359126 0.07335257 ... 0.04428417 0.04786957 0.04786357]\n",
      " [0.0736081  0.073607   0.07336444 ... 0.04428295 0.04787021 0.04786413]\n",
      " [0.07362537 0.07362303 0.07337587 ... 0.04428195 0.04787523 0.04786917]\n",
      " ...\n",
      " [0.07524024 0.07488703 0.07599606 ... 0.04677524 0.04885304 0.04799756]\n",
      " [0.07526916 0.07490687 0.07601648 ... 0.04676788 0.04883877 0.04798697]\n",
      " [0.07528683 0.07491615 0.07602671 ... 0.04676073 0.04882532 0.04797673]]\n"
     ]
    }
   ],
   "source": [
    "#train_x = preprocessing.normalize(train_x)#------------------------------------normalizing data\n",
    "#test_x = preprocessing.normalize(test_x)\n",
    "\n",
    "print(train_x.shape)\n",
    "print(test_x.shape)\n",
    "print(train_label.shape)\n",
    "print(test_labels.shape)\n",
    "test_x = preprocessing.normalize(test_x)\n",
    "print(test_x[1:])\n",
    "\n",
    "train_x = preprocessing.normalize(train_x)\n",
    "print(train_x[1:])\n"
   ]
  },
  {
   "cell_type": "code",
   "execution_count": 30,
   "metadata": {},
   "outputs": [],
   "source": [
    "input_img= Input(shape=(310,))#--------------------------------creating shape of autoencoder"
   ]
  },
  {
   "cell_type": "code",
   "execution_count": 35,
   "metadata": {},
   "outputs": [],
   "source": [
    "encoded = Dense(units=128, activation='relu')(input_img)#------------------Adding layers in autoencoder\n",
    "#encoded = Dense(units=64, activation='relu')(encoded)\n",
    "#encoded = Dense(units=32, activation='relu')(encoded)\n",
    "decoded = Dense(units=64, activation='relu')(encoded)\n",
    "decoded = Dense(units=128, activation='relu')(decoded)\n",
    "decoded = Dense(units=310, activation='sigmoid')(decoded)"
   ]
  },
  {
   "cell_type": "code",
   "execution_count": 36,
   "metadata": {},
   "outputs": [
    {
     "name": "stdout",
     "output_type": "stream",
     "text": [
      "Model: \"model_7\"\n",
      "_________________________________________________________________\n",
      "Layer (type)                 Output Shape              Param #   \n",
      "=================================================================\n",
      "input_2 (InputLayer)         (None, 310)               0         \n",
      "_________________________________________________________________\n",
      "dense_17 (Dense)             (None, 128)               39808     \n",
      "_________________________________________________________________\n",
      "dense_18 (Dense)             (None, 64)                8256      \n",
      "_________________________________________________________________\n",
      "dense_19 (Dense)             (None, 128)               8320      \n",
      "_________________________________________________________________\n",
      "dense_20 (Dense)             (None, 310)               39990     \n",
      "=================================================================\n",
      "Total params: 96,374\n",
      "Trainable params: 96,374\n",
      "Non-trainable params: 0\n",
      "_________________________________________________________________\n"
     ]
    }
   ],
   "source": [
    "autoencoder=Model(input_img, decoded)\n",
    "\n",
    "autoencoder.summary()"
   ]
  },
  {
   "cell_type": "code",
   "execution_count": 37,
   "metadata": {},
   "outputs": [
    {
     "data": {
      "text/plain": [
       "[<keras.engine.input_layer.InputLayer at 0x1b9135f2c08>,\n",
       " <keras.layers.core.Dense at 0x1b9708ece48>,\n",
       " <keras.layers.core.Dense at 0x1b9708ece08>,\n",
       " <keras.layers.core.Dense at 0x1b9708f2088>,\n",
       " <keras.layers.core.Dense at 0x1b9708f2808>]"
      ]
     },
     "execution_count": 37,
     "metadata": {},
     "output_type": "execute_result"
    }
   ],
   "source": [
    "#model.add(autoencoder.layers[1:4])\n",
    "#encoded_input = model.predict(train_x)\n",
    "#encoded_input.shape\n",
    "\n",
    "autoencoder.layers"
   ]
  },
  {
   "cell_type": "code",
   "execution_count": 38,
   "metadata": {},
   "outputs": [
    {
     "name": "stdout",
     "output_type": "stream",
     "text": [
      "Model: \"model_7\"\n",
      "_________________________________________________________________\n",
      "Layer (type)                 Output Shape              Param #   \n",
      "=================================================================\n",
      "input_2 (InputLayer)         (None, 310)               0         \n",
      "_________________________________________________________________\n",
      "dense_17 (Dense)             (None, 128)               39808     \n",
      "_________________________________________________________________\n",
      "dense_18 (Dense)             (None, 64)                8256      \n",
      "_________________________________________________________________\n",
      "dense_19 (Dense)             (None, 128)               8320      \n",
      "_________________________________________________________________\n",
      "dense_20 (Dense)             (None, 310)               39990     \n",
      "=================================================================\n",
      "Total params: 96,374\n",
      "Trainable params: 96,374\n",
      "Non-trainable params: 0\n",
      "_________________________________________________________________\n"
     ]
    }
   ],
   "source": [
    "autoencoder.summary()"
   ]
  },
  {
   "cell_type": "code",
   "execution_count": 39,
   "metadata": {},
   "outputs": [],
   "source": [
    "encoder = Model(input_img, encoded)"
   ]
  },
  {
   "cell_type": "code",
   "execution_count": 40,
   "metadata": {},
   "outputs": [
    {
     "name": "stdout",
     "output_type": "stream",
     "text": [
      "Model: \"model_8\"\n",
      "_________________________________________________________________\n",
      "Layer (type)                 Output Shape              Param #   \n",
      "=================================================================\n",
      "input_2 (InputLayer)         (None, 310)               0         \n",
      "_________________________________________________________________\n",
      "dense_17 (Dense)             (None, 128)               39808     \n",
      "=================================================================\n",
      "Total params: 39,808\n",
      "Trainable params: 39,808\n",
      "Non-trainable params: 0\n",
      "_________________________________________________________________\n"
     ]
    }
   ],
   "source": [
    "encoder.summary()"
   ]
  },
  {
   "cell_type": "code",
   "execution_count": 41,
   "metadata": {},
   "outputs": [
    {
     "name": "stdout",
     "output_type": "stream",
     "text": [
      "Model: \"model_8\"\n",
      "_________________________________________________________________\n",
      "Layer (type)                 Output Shape              Param #   \n",
      "=================================================================\n",
      "input_2 (InputLayer)         (None, 310)               0         \n",
      "_________________________________________________________________\n",
      "dense_17 (Dense)             (None, 128)               39808     \n",
      "=================================================================\n",
      "Total params: 39,808\n",
      "Trainable params: 39,808\n",
      "Non-trainable params: 0\n",
      "_________________________________________________________________\n",
      "None\n"
     ]
    }
   ],
   "source": [
    "print(encoder.summary())"
   ]
  },
  {
   "cell_type": "code",
   "execution_count": 42,
   "metadata": {},
   "outputs": [],
   "source": [
    "autoencoder.compile(optimizer='Adadelta', loss='mean_squared_error', metrics=['MSE'])"
   ]
  },
  {
   "cell_type": "code",
   "execution_count": 43,
   "metadata": {},
   "outputs": [
    {
     "name": "stdout",
     "output_type": "stream",
     "text": [
      "Train on 58128 samples, validate on 58128 samples\n",
      "Epoch 1/50\n",
      "58128/58128 [==============================] - 1s 23us/step - loss: 0.1909 - MSE: 0.1909 - val_loss: 0.1824 - val_MSE: 0.1824\n",
      "Epoch 2/50\n",
      "58128/58128 [==============================] - 1s 23us/step - loss: 0.1441 - MSE: 0.1441 - val_loss: 0.0405 - val_MSE: 0.0405\n",
      "Epoch 3/50\n",
      "58128/58128 [==============================] - 1s 24us/step - loss: 0.0064 - MSE: 0.0064 - val_loss: 4.1699e-04 - val_MSE: 4.1699e-04\n",
      "Epoch 4/50\n",
      "58128/58128 [==============================] - 1s 25us/step - loss: 2.6055e-04 - MSE: 2.6055e-04 - val_loss: 1.8365e-04 - val_MSE: 1.8365e-04\n",
      "Epoch 5/50\n",
      "58128/58128 [==============================] - 1s 24us/step - loss: 1.5317e-04 - MSE: 1.5317e-04 - val_loss: 1.2918e-04 - val_MSE: 1.2918e-04\n",
      "Epoch 6/50\n",
      "58128/58128 [==============================] - 1s 25us/step - loss: 1.1139e-04 - MSE: 1.1139e-04 - val_loss: 9.7328e-05 - val_MSE: 9.7328e-05\n",
      "Epoch 7/50\n",
      "58128/58128 [==============================] - 1s 24us/step - loss: 8.5183e-05 - MSE: 8.5183e-05 - val_loss: 7.6320e-05 - val_MSE: 7.6320e-05\n",
      "Epoch 8/50\n",
      "58128/58128 [==============================] - 1s 24us/step - loss: 6.7564e-05 - MSE: 6.7564e-05 - val_loss: 6.1900e-05 - val_MSE: 6.1900e-05\n",
      "Epoch 9/50\n",
      "58128/58128 [==============================] - 1s 24us/step - loss: 5.5355e-05 - MSE: 5.5355e-05 - val_loss: 5.1793e-05 - val_MSE: 5.1793e-05\n",
      "Epoch 10/50\n",
      "58128/58128 [==============================] - 1s 24us/step - loss: 4.6748e-05 - MSE: 4.6748e-05 - val_loss: 4.4591e-05 - val_MSE: 4.4591e-05\n",
      "Epoch 11/50\n",
      "58128/58128 [==============================] - 1s 24us/step - loss: 4.0567e-05 - MSE: 4.0567e-05 - val_loss: 3.9345e-05 - val_MSE: 3.9345e-05\n",
      "Epoch 12/50\n",
      "58128/58128 [==============================] - 1s 24us/step - loss: 3.6015e-05 - MSE: 3.6015e-05 - val_loss: 3.5414e-05 - val_MSE: 3.5414e-05\n",
      "Epoch 13/50\n",
      "58128/58128 [==============================] - 1s 24us/step - loss: 3.2574e-05 - MSE: 3.2574e-05 - val_loss: 3.2396e-05 - val_MSE: 3.2396e-05\n",
      "Epoch 14/50\n",
      "58128/58128 [==============================] - 1s 24us/step - loss: 2.9913e-05 - MSE: 2.9913e-05 - val_loss: 3.0029e-05 - val_MSE: 3.0029e-05\n",
      "Epoch 15/50\n",
      "58128/58128 [==============================] - 1s 24us/step - loss: 2.7813e-05 - MSE: 2.7813e-05 - val_loss: 2.8137e-05 - val_MSE: 2.8137e-05\n",
      "Epoch 16/50\n",
      "58128/58128 [==============================] - 1s 24us/step - loss: 2.6126e-05 - MSE: 2.6126e-05 - val_loss: 2.6600e-05 - val_MSE: 2.6600e-05\n",
      "Epoch 17/50\n",
      "58128/58128 [==============================] - 1s 24us/step - loss: 2.4748e-05 - MSE: 2.4748e-05 - val_loss: 2.5330e-05 - val_MSE: 2.5330e-05\n",
      "Epoch 18/50\n",
      "58128/58128 [==============================] - 1s 24us/step - loss: 2.3605e-05 - MSE: 2.3605e-05 - val_loss: 2.4268e-05 - val_MSE: 2.4268e-05\n",
      "Epoch 19/50\n",
      "58128/58128 [==============================] - 1s 24us/step - loss: 2.2644e-05 - MSE: 2.2644e-05 - val_loss: 2.3370e-05 - val_MSE: 2.3370e-05\n",
      "Epoch 20/50\n",
      "58128/58128 [==============================] - 1s 25us/step - loss: 2.1829e-05 - MSE: 2.1829e-05 - val_loss: 2.2605e-05 - val_MSE: 2.2605e-05\n",
      "Epoch 21/50\n",
      "58128/58128 [==============================] - 1s 25us/step - loss: 2.1132e-05 - MSE: 2.1132e-05 - val_loss: 2.1950e-05 - val_MSE: 2.1950e-05\n",
      "Epoch 22/50\n",
      "58128/58128 [==============================] - 1s 24us/step - loss: 2.0533e-05 - MSE: 2.0533e-05 - val_loss: 2.1384e-05 - val_MSE: 2.1384e-05\n",
      "Epoch 23/50\n",
      "58128/58128 [==============================] - 1s 24us/step - loss: 2.0013e-05 - MSE: 2.0013e-05 - val_loss: 2.0891e-05 - val_MSE: 2.0891e-05\n",
      "Epoch 24/50\n",
      "58128/58128 [==============================] - 1s 25us/step - loss: 1.9560e-05 - MSE: 1.9560e-05 - val_loss: 2.0459e-05 - val_MSE: 2.0459e-05\n",
      "Epoch 25/50\n",
      "58128/58128 [==============================] - 1s 25us/step - loss: 1.9159e-05 - MSE: 1.9159e-05 - val_loss: 2.0075e-05 - val_MSE: 2.0075e-05\n",
      "Epoch 26/50\n",
      "58128/58128 [==============================] - 1s 25us/step - loss: 1.8798e-05 - MSE: 1.8798e-05 - val_loss: 1.9725e-05 - val_MSE: 1.9725e-05\n",
      "Epoch 27/50\n",
      "58128/58128 [==============================] - 1s 25us/step - loss: 1.8465e-05 - MSE: 1.8465e-05 - val_loss: 1.9397e-05 - val_MSE: 1.9397e-05\n",
      "Epoch 28/50\n",
      "58128/58128 [==============================] - 1s 25us/step - loss: 1.8148e-05 - MSE: 1.8148e-05 - val_loss: 1.9083e-05 - val_MSE: 1.9083e-05\n",
      "Epoch 29/50\n",
      "58128/58128 [==============================] - 1s 25us/step - loss: 1.7837e-05 - MSE: 1.7837e-05 - val_loss: 1.8771e-05 - val_MSE: 1.8771e-05\n",
      "Epoch 30/50\n",
      "58128/58128 [==============================] - 1s 25us/step - loss: 1.7525e-05 - MSE: 1.7525e-05 - val_loss: 1.8456e-05 - val_MSE: 1.8456e-05\n",
      "Epoch 31/50\n",
      "58128/58128 [==============================] - 1s 25us/step - loss: 1.7208e-05 - MSE: 1.7208e-05 - val_loss: 1.8133e-05 - val_MSE: 1.8133e-05\n",
      "Epoch 32/50\n",
      "58128/58128 [==============================] - 1s 25us/step - loss: 1.6882e-05 - MSE: 1.6882e-05 - val_loss: 1.7801e-05 - val_MSE: 1.7801e-05\n",
      "Epoch 33/50\n",
      "58128/58128 [==============================] - 1s 25us/step - loss: 1.6547e-05 - MSE: 1.6547e-05 - val_loss: 1.7463e-05 - val_MSE: 1.7463e-05\n",
      "Epoch 34/50\n",
      "58128/58128 [==============================] - 2s 27us/step - loss: 1.6206e-05 - MSE: 1.6206e-05 - val_loss: 1.7121e-05 - val_MSE: 1.7121e-05\n",
      "Epoch 35/50\n",
      "58128/58128 [==============================] - 2s 27us/step - loss: 1.5865e-05 - MSE: 1.5865e-05 - val_loss: 1.6783e-05 - val_MSE: 1.6783e-05\n",
      "Epoch 36/50\n",
      "58128/58128 [==============================] - 2s 28us/step - loss: 1.5531e-05 - MSE: 1.5531e-05 - val_loss: 1.6456e-05 - val_MSE: 1.6456e-05\n",
      "Epoch 37/50\n",
      "58128/58128 [==============================] - 2s 29us/step - loss: 1.5212e-05 - MSE: 1.5212e-05 - val_loss: 1.6150e-05 - val_MSE: 1.6150e-05\n",
      "Epoch 38/50\n",
      "58128/58128 [==============================] - 1s 24us/step - loss: 1.4919e-05 - MSE: 1.4919e-05 - val_loss: 1.5874e-05 - val_MSE: 1.5874e-05\n",
      "Epoch 39/50\n",
      "58128/58128 [==============================] - 1s 25us/step - loss: 1.4660e-05 - MSE: 1.4660e-05 - val_loss: 1.5636e-05 - val_MSE: 1.5636e-05\n",
      "Epoch 40/50\n",
      "58128/58128 [==============================] - 2s 26us/step - loss: 1.4440e-05 - MSE: 1.4440e-05 - val_loss: 1.5440e-05 - val_MSE: 1.5440e-05\n",
      "Epoch 41/50\n",
      "58128/58128 [==============================] - 2s 26us/step - loss: 1.4263e-05 - MSE: 1.4263e-05 - val_loss: 1.5285e-05 - val_MSE: 1.5285e-05\n",
      "Epoch 42/50\n",
      "58128/58128 [==============================] - 1s 25us/step - loss: 1.4127e-05 - MSE: 1.4127e-05 - val_loss: 1.5170e-05 - val_MSE: 1.5170e-05\n",
      "Epoch 43/50\n",
      "58128/58128 [==============================] - 1s 24us/step - loss: 1.4028e-05 - MSE: 1.4028e-05 - val_loss: 1.5088e-05 - val_MSE: 1.5088e-05\n",
      "Epoch 44/50\n",
      "58128/58128 [==============================] - 1s 24us/step - loss: 1.3958e-05 - MSE: 1.3958e-05 - val_loss: 1.5033e-05 - val_MSE: 1.5033e-05\n",
      "Epoch 45/50\n",
      "58128/58128 [==============================] - 1s 24us/step - loss: 1.3912e-05 - MSE: 1.3912e-05 - val_loss: 1.4997e-05 - val_MSE: 1.4997e-05\n",
      "Epoch 46/50\n",
      "58128/58128 [==============================] - 1s 25us/step - loss: 1.3881e-05 - MSE: 1.3881e-05 - val_loss: 1.4974e-05 - val_MSE: 1.4974e-05\n",
      "Epoch 47/50\n",
      "58128/58128 [==============================] - 1s 24us/step - loss: 1.3862e-05 - MSE: 1.3862e-05 - val_loss: 1.4959e-05 - val_MSE: 1.4959e-05\n",
      "Epoch 48/50\n",
      "58128/58128 [==============================] - 1s 25us/step - loss: 1.3851e-05 - MSE: 1.3851e-05 - val_loss: 1.4950e-05 - val_MSE: 1.4950e-05\n",
      "Epoch 49/50\n",
      "58128/58128 [==============================] - 1s 25us/step - loss: 1.3844e-05 - MSE: 1.3844e-05 - val_loss: 1.4945e-05 - val_MSE: 1.4945e-05\n",
      "Epoch 50/50\n",
      "58128/58128 [==============================] - 1s 26us/step - loss: 1.3840e-05 - MSE: 1.3840e-05 - val_loss: 1.4942e-05 - val_MSE: 1.4942e-05\n"
     ]
    }
   ],
   "source": [
    "autoencoder_train = autoencoder.fit(train_x, train_x,#-------------------------starting Autoencoder train\n",
    "                    epochs=50,\n",
    "                    batch_size=1000,\n",
    "                    shuffle=True,\n",
    "                    validation_data=(test_x, test_x))"
   ]
  },
  {
   "cell_type": "code",
   "execution_count": 44,
   "metadata": {},
   "outputs": [
    {
     "name": "stdout",
     "output_type": "stream",
     "text": [
      "(58128, 310)\n",
      "(58128, 310)\n",
      "(58128, 3)\n",
      "(58128, 3)\n"
     ]
    }
   ],
   "source": [
    "print(train_x.shape)\n",
    "print(test_x.shape)\n",
    "print(train_label.shape)\n",
    "print(test_labels.shape)"
   ]
  },
  {
   "cell_type": "code",
   "execution_count": 45,
   "metadata": {},
   "outputs": [
    {
     "data": {
      "image/png": "[encoded data removed]",
      "text/plain": [
       "<Figure size 432x288 with 1 Axes>"
      ]
     },
     "metadata": {
      "needs_background": "light"
     },
     "output_type": "display_data"
    }
   ],
   "source": [
    "loss = autoencoder_train.history['loss']\n",
    "val_loss = autoencoder_train.history['val_loss']\n",
    "epochs = range(50)\n",
    "plt.figure()\n",
    "plt.plot(epochs, loss, 'bo', label='Training loss')\n",
    "plt.plot(epochs, val_loss, 'b', label='Validation loss')\n",
    "plt.title('Training and validation loss')\n",
    "plt.legend()\n",
    "plt.show()"
   ]
  },
  {
   "cell_type": "code",
   "execution_count": 46,
   "metadata": {},
   "outputs": [
    {
     "data": {
      "text/plain": [
       "2578"
      ]
     },
     "execution_count": 46,
     "metadata": {},
     "output_type": "execute_result"
    }
   ],
   "source": [
    "json_string = autoencoder.to_json()\n",
    "autoencoder.save_weights('autoencoder.h5')\n",
    "open('autoencoder.h5', 'w').write(json_string)"
   ]
  },
  {
   "cell_type": "code",
   "execution_count": 47,
   "metadata": {},
   "outputs": [],
   "source": [
    "encoder = Model(inputs = input_img, outputs = encoded)"
   ]
  },
  {
   "cell_type": "code",
   "execution_count": 48,
   "metadata": {},
   "outputs": [
    {
     "name": "stdout",
     "output_type": "stream",
     "text": [
      "(58128, 128)\n",
      "[0.08590426 0.         0.         0.12252581 0.         0.14586386\n",
      " 0.07569894 0.13737315 0.         0.23495777 0.02952522 0.\n",
      " 0.         0.         0.18587664 0.0418244  0.08425903 0.\n",
      " 0.22492212 0.         0.         0.05320587 0.0382582  0.\n",
      " 0.         0.24371035 0.         0.         0.00649695 0.\n",
      " 0.        ]\n"
     ]
    }
   ],
   "source": [
    "train_x_encoded = encoder.predict(train_x)#----------------getting encoded training values\n",
    "print(train_x_encoded.shape)\n",
    "train_x_encoded = preprocessing.normalize(train_x_encoded)\n",
    "\n",
    "test_x_encoded = encoder.predict(test_x)#----------------getting encoded training values\n",
    "test_x_encoded = preprocessing.normalize(test_x_encoded)\n",
    "print(test_x_encoded[258,1:32])\n",
    "\n",
    "\n",
    "\n"
   ]
  },
  {
   "cell_type": "code",
   "execution_count": 49,
   "metadata": {},
   "outputs": [
    {
     "data": {
      "text/plain": [
       "array([ 0.10457486, -0.08623362,  0.0461316 ,  0.01721803, -0.05462242,\n",
       "       -0.00031961,  0.10820112, -0.0585335 , -0.08119556, -0.07836802,\n",
       "        0.10309279,  0.07671379, -0.09158278, -0.10503457, -0.08257076,\n",
       "       -0.06727601, -0.04061091, -0.03548842,  0.10810675,  0.103397  ,\n",
       "       -0.09108108,  0.01954107,  0.03261907,  0.0847666 , -0.03633454,\n",
       "        0.10611751,  0.03238071,  0.01178575,  0.00110723, -0.02155212,\n",
       "       -0.05793218,  0.09908845,  0.02289898, -0.00398768,  0.0694057 ,\n",
       "       -0.07048321,  0.04613401,  0.00314637,  0.10189278,  0.02150021,\n",
       "       -0.09155091, -0.1050578 , -0.0495988 ,  0.1021763 ,  0.10185871,\n",
       "       -0.08385991, -0.04692273,  0.04734032,  0.06153596, -0.02758286,\n",
       "       -0.03914895, -0.04136934,  0.12647492,  0.07191866,  0.06332406,\n",
       "       -0.03282573, -0.10774437, -0.01596531,  0.09860948, -0.06112369,\n",
       "        0.02495899,  0.09321281,  0.06006483,  0.00583101,  0.00517134,\n",
       "        0.0559228 ,  0.09187233,  0.08822265,  0.07632013, -0.01851619,\n",
       "        0.06252048,  0.06870875, -0.07109308,  0.11027598, -0.05059972,\n",
       "        0.0189026 , -0.02526759,  0.03256768,  0.02960467,  0.078748  ,\n",
       "        0.06416656,  0.03907295,  0.02682608,  0.02921525,  0.00271318,\n",
       "        0.10923439,  0.05512743, -0.0547959 ,  0.0095618 ,  0.06786028,\n",
       "       -0.09246203,  0.10895445,  0.07174886, -0.02639563, -0.10853482,\n",
       "       -0.0468008 ,  0.00569431, -0.02155949,  0.11115751,  0.09787121,\n",
       "       -0.03854761,  0.06549192,  0.07736682,  0.04476955,  0.03658686,\n",
       "       -0.03268485, -0.0816737 ,  0.0463424 ,  0.09256899,  0.01388534,\n",
       "        0.00490535, -0.00020847, -0.11408718,  0.09697039,  0.11389419,\n",
       "       -0.08505379,  0.01805598,  0.0391353 ,  0.11317048, -0.06252962,\n",
       "       -0.09437355, -0.07175712, -0.08024438,  0.07581288,  0.05560804,\n",
       "       -0.10710122, -0.0539079 ,  0.04803904], dtype=float32)"
      ]
     },
     "execution_count": 49,
     "metadata": {},
     "output_type": "execute_result"
    }
   ],
   "source": [
    "autoencoder.get_weights()[0][1]"
   ]
  },
  {
   "cell_type": "code",
   "execution_count": 50,
   "metadata": {},
   "outputs": [
    {
     "name": "stdout",
     "output_type": "stream",
     "text": [
      "(58128, 310)\n",
      "[[0. 0. 0.]]\n"
     ]
    }
   ],
   "source": [
    "#-------------------starting ELM\n",
    "\n",
    "print(train_x.shape)\n",
    "predicted_output=np.zeros([1,3])\n",
    "print(predicted_output)\n",
    "acc=0"
   ]
  },
  {
   "cell_type": "code",
   "execution_count": 52,
   "metadata": {},
   "outputs": [
    {
     "name": "stdout",
     "output_type": "stream",
     "text": [
      "Accuracy  is 74.50626204238921 %\n",
      "Time elapsed 5.043430328369141\n"
     ]
    }
   ],
   "source": [
    "#---------------------------------STARTING EXTREME LEARNING MACHINE\n",
    "start = time.time()\n",
    "l=0\n",
    "l_max=100 #-----------------------------------settting number of neurons\n",
    "beta=0\n",
    "error=0\n",
    "\n",
    "weights = np.random.rand(128,500)*100#------------------------------creating random weight matrix== features X num_neuron #nearon should be greater than feature\n",
    "weights_transpose = np.transpose(weights)\n",
    "weights.shape\n",
    "h_new = np.dot(train_x_encoded,weights)#--------------------------finding value of h\n",
    "h_inv = np.linalg.pinv(h_new)#-----------------------------finding pseudo inverse of h\n",
    "    \n",
    "beta = np.dot(h_inv, train_label)#------------------finding beta\n",
    "    #print(beta.shape)\n",
    "    #print(h_new.shape)\n",
    "predicted_output = np.dot(h_new,beta)#--------------------predicted output\n",
    "        #error = y_train - predicted_output\n",
    "        #print(predicted_output)\n",
    "        \n",
    "        \n",
    "    #print(predicted_output.shape)\n",
    "\n",
    "k=0\n",
    "j=0\n",
    "for k in range(58128):\n",
    "    for j in range(3):\n",
    "        max_item=max(predicted_output[k][:])#------------------------------changing the maximum value as 1 and other as 0\n",
    "        if(predicted_output[k][j]==max_item):\n",
    "            predicted_output[k][j]=1\n",
    "    \n",
    "        else:\n",
    "            predicted_output[k][j]=0\n",
    "        \n",
    "   # print(predicted_output[i][:])    \n",
    "   # print(predicted_output.shape)  \n",
    "        #print(y_train)\n",
    "acc = accuracy_score(predicted_output,train_label)#-----------------------------FInding accuracy\n",
    "print(\"Accuracy \", \"is\", + acc*100, \"%\")      \n",
    "end = time.time()\n",
    "print(\"Time elapsed\",end - start)\n",
    "    #print(error)\n",
    "    \n",
    "    #print(h_inv.shape)\n",
    "    #print(h_new.shape)\n",
    "    #print(beta)\n",
    "    #print(weights.shape)\n",
    "#print(error[1][9])"
   ]
  },
  {
   "cell_type": "code",
   "execution_count": 53,
   "metadata": {},
   "outputs": [
    {
     "name": "stdout",
     "output_type": "stream",
     "text": [
      "Accuracy number is 61.037709881640524 %\n"
     ]
    }
   ],
   "source": [
    "h_new_test = np.dot(test_x_encoded,weights)#--------------------------finding value of h\n",
    "\n",
    "#for testing data\n",
    "predicted_output_test = np.dot(h_new_test,beta)#--------------------predicted output\n",
    "\n",
    "k=0\n",
    "j=0\n",
    "for k in range(58128):\n",
    "    for j in range(3):\n",
    "        max_item=max(predicted_output_test[k][:])#------------------------------changing the maximum value as 1 and other as 0\n",
    "        if(predicted_output_test[k][j]==max_item):\n",
    "            predicted_output_test[k][j]=1\n",
    "    \n",
    "        else:\n",
    "            predicted_output_test[k][j]=0\n",
    "        \n",
    "   # print(predicted_output[i][:])    \n",
    "   # print(predicted_output.shape)  \n",
    "        #print(y_train)\n",
    "acc = accuracy_score(predicted_output_test,test_labels)#-----------------------------FInding accuracy\n",
    "print(\"Accuracy number\", \"is\", + acc*100, \"%\") "
   ]
  },
  {
   "cell_type": "code",
   "execution_count": null,
   "metadata": {},
   "outputs": [],
   "source": [
    "\n"
   ]
  },
  {
   "cell_type": "code",
   "execution_count": null,
   "metadata": {},
   "outputs": [],
   "source": []
  },
  {
   "cell_type": "code",
   "execution_count": null,
   "metadata": {},
   "outputs": [],
   "source": []
  },
  {
   "cell_type": "code",
   "execution_count": null,
   "metadata": {},
   "outputs": [],
   "source": []
  },
  {
   "cell_type": "code",
   "execution_count": null,
   "metadata": {},
   "outputs": [],
   "source": []
  },
  {
   "cell_type": "code",
   "execution_count": null,
   "metadata": {},
   "outputs": [],
   "source": []
  },
  {
   "cell_type": "code",
   "execution_count": null,
   "metadata": {},
   "outputs": [],
   "source": []
  },
  {
   "cell_type": "code",
   "execution_count": null,
   "metadata": {},
   "outputs": [],
   "source": []
  },
  {
   "cell_type": "code",
   "execution_count": null,
   "metadata": {},
   "outputs": [],
   "source": []
  },
  {
   "cell_type": "code",
   "execution_count": null,
   "metadata": {},
   "outputs": [],
   "source": []
  },
  {
   "cell_type": "code",
   "execution_count": null,
   "metadata": {},
   "outputs": [],
   "source": []
  },
  {
   "cell_type": "code",
   "execution_count": null,
   "metadata": {},
   "outputs": [],
   "source": []
  },
  {
   "cell_type": "code",
   "execution_count": null,
   "metadata": {},
   "outputs": [],
   "source": []
  },
  {
   "cell_type": "code",
   "execution_count": null,
   "metadata": {},
   "outputs": [],
   "source": []
  },
  {
   "cell_type": "code",
   "execution_count": null,
   "metadata": {},
   "outputs": [],
   "source": []
  },
  {
   "cell_type": "code",
   "execution_count": null,
   "metadata": {},
   "outputs": [],
   "source": []
  },
  {
   "cell_type": "code",
   "execution_count": null,
   "metadata": {},
   "outputs": [],
   "source": []
  }
 ],
 "metadata": {
  "kernelspec": {
   "display_name": "Python 3",
   "language": "python",
   "name": "python3"
  },
  "language_info": {
   "codemirror_mode": {
    "name": "ipython",
    "version": 3
   },
   "file_extension": ".py",
   "mimetype": "text/x-python",
   "name": "python",
   "nbconvert_exporter": "python",
   "pygments_lexer": "ipython3",
   "version": "3.7.4"
  }
 },
 "nbformat": 4,
 "nbformat_minor": 2
}
