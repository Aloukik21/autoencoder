{
 "cells": [
  {
   "cell_type": "markdown",
   "metadata": {},
   "source": [
    "## MNIST classiffication of alphabets (1-10) classes using Incremental Extreme Machine learning"
   ]
  },
  {
   "cell_type": "code",
   "execution_count": 1,
   "metadata": {},
   "outputs": [
    {
     "name": "stderr",
     "output_type": "stream",
     "text": [
      "Using TensorFlow backend.\n"
     ]
    }
   ],
   "source": [
    "import numpy as np\n",
    "import matplotlib.pyplot as plt\n",
    "import keras\n",
    "from keras.models import Sequential\n",
    "from keras.datasets import mnist\n",
    "from keras.layers import Dense\n",
    "from keras.optimizers import Adam\n",
    "import random\n",
    "import keras\n",
    "import keras.utils\n",
    "from keras.utils.np_utils import to_categorical \n",
    "from keras import utils as np_utils\n",
    "from sklearn.preprocessing import OneHotEncoder \n",
    "from sklearn.metrics import accuracy_score\n",
    "import time\n",
    "\n",
    "\n"
   ]
  },
  {
   "cell_type": "code",
   "execution_count": 2,
   "metadata": {},
   "outputs": [],
   "source": [
    "(X_train, y_train), (X_test, y_test) = mnist.load_data() #-----------------loading mnist dataset"
   ]
  },
  {
   "cell_type": "code",
   "execution_count": 11,
   "metadata": {
    "scrolled": true
   },
   "outputs": [
    {
     "name": "stdout",
     "output_type": "stream",
     "text": [
      "(60000, 28, 28)\n",
      "(10000, 28, 28)\n",
      "60000\n",
      "(60000, 10)\n",
      "(10000, 10)\n",
      "[1. 0. 0. 0. 0. 0. 0. 0. 0. 0.]\n",
      "[[0. 0. 1. 0. 0. 0. 0. 0. 0. 0.]\n",
      " [0. 1. 0. 0. 0. 0. 0. 0. 0. 0.]\n",
      " [1. 0. 0. 0. 0. 0. 0. 0. 0. 0.]\n",
      " [0. 0. 0. 0. 1. 0. 0. 0. 0. 0.]\n",
      " [0. 1. 0. 0. 0. 0. 0. 0. 0. 0.]\n",
      " [0. 0. 0. 0. 1. 0. 0. 0. 0. 0.]\n",
      " [0. 0. 0. 0. 0. 0. 0. 0. 0. 1.]\n",
      " [0. 0. 0. 0. 0. 1. 0. 0. 0. 0.]\n",
      " [0. 0. 0. 0. 0. 0. 0. 0. 0. 1.]\n",
      " [1. 0. 0. 0. 0. 0. 0. 0. 0. 0.]\n",
      " [0. 0. 0. 0. 0. 0. 1. 0. 0. 0.]\n",
      " [0. 0. 0. 0. 0. 0. 0. 0. 0. 1.]\n",
      " [1. 0. 0. 0. 0. 0. 0. 0. 0. 0.]\n",
      " [0. 1. 0. 0. 0. 0. 0. 0. 0. 0.]\n",
      " [0. 0. 0. 0. 0. 1. 0. 0. 0. 0.]\n",
      " [0. 0. 0. 0. 0. 0. 0. 0. 0. 1.]\n",
      " [0. 0. 0. 0. 0. 0. 0. 1. 0. 0.]\n",
      " [0. 0. 0. 1. 0. 0. 0. 0. 0. 0.]\n",
      " [0. 0. 0. 0. 1. 0. 0. 0. 0. 0.]\n",
      " [0. 0. 0. 0. 0. 0. 0. 0. 0. 1.]\n",
      " [0. 0. 0. 0. 0. 0. 1. 0. 0. 0.]\n",
      " [0. 0. 0. 0. 0. 0. 1. 0. 0. 0.]\n",
      " [0. 0. 0. 0. 0. 1. 0. 0. 0. 0.]\n",
      " [0. 0. 0. 0. 1. 0. 0. 0. 0. 0.]\n",
      " [1. 0. 0. 0. 0. 0. 0. 0. 0. 0.]\n",
      " [0. 0. 0. 0. 0. 0. 0. 1. 0. 0.]\n",
      " [0. 0. 0. 0. 1. 0. 0. 0. 0. 0.]\n",
      " [1. 0. 0. 0. 0. 0. 0. 0. 0. 0.]\n",
      " [0. 1. 0. 0. 0. 0. 0. 0. 0. 0.]\n",
      " [0. 0. 0. 1. 0. 0. 0. 0. 0. 0.]\n",
      " [0. 1. 0. 0. 0. 0. 0. 0. 0. 0.]\n",
      " [0. 0. 0. 1. 0. 0. 0. 0. 0. 0.]\n",
      " [0. 0. 0. 0. 1. 0. 0. 0. 0. 0.]\n",
      " [0. 0. 0. 0. 0. 0. 0. 1. 0. 0.]\n",
      " [0. 0. 1. 0. 0. 0. 0. 0. 0. 0.]\n",
      " [0. 0. 0. 0. 0. 0. 0. 1. 0. 0.]\n",
      " [0. 1. 0. 0. 0. 0. 0. 0. 0. 0.]\n",
      " [0. 0. 1. 0. 0. 0. 0. 0. 0. 0.]\n",
      " [0. 1. 0. 0. 0. 0. 0. 0. 0. 0.]\n",
      " [0. 1. 0. 0. 0. 0. 0. 0. 0. 0.]\n",
      " [0. 0. 0. 0. 0. 0. 0. 1. 0. 0.]\n",
      " [0. 0. 0. 0. 1. 0. 0. 0. 0. 0.]\n",
      " [0. 0. 1. 0. 0. 0. 0. 0. 0. 0.]\n",
      " [0. 0. 0. 1. 0. 0. 0. 0. 0. 0.]\n",
      " [0. 0. 0. 0. 0. 1. 0. 0. 0. 0.]\n",
      " [0. 1. 0. 0. 0. 0. 0. 0. 0. 0.]\n",
      " [0. 0. 1. 0. 0. 0. 0. 0. 0. 0.]\n",
      " [0. 0. 0. 0. 1. 0. 0. 0. 0. 0.]\n",
      " [0. 0. 0. 0. 1. 0. 0. 0. 0. 0.]\n",
      " [0. 0. 0. 0. 0. 0. 1. 0. 0. 0.]\n",
      " [0. 0. 0. 1. 0. 0. 0. 0. 0. 0.]\n",
      " [0. 0. 0. 0. 0. 1. 0. 0. 0. 0.]\n",
      " [0. 0. 0. 0. 0. 1. 0. 0. 0. 0.]\n",
      " [0. 0. 0. 0. 0. 0. 1. 0. 0. 0.]\n",
      " [1. 0. 0. 0. 0. 0. 0. 0. 0. 0.]\n",
      " [0. 0. 0. 0. 1. 0. 0. 0. 0. 0.]\n",
      " [0. 1. 0. 0. 0. 0. 0. 0. 0. 0.]\n",
      " [0. 0. 0. 0. 0. 0. 0. 0. 0. 1.]\n",
      " [0. 0. 0. 0. 0. 1. 0. 0. 0. 0.]\n",
      " [0. 0. 0. 0. 0. 0. 0. 1. 0. 0.]\n",
      " [0. 0. 0. 0. 0. 0. 0. 0. 1. 0.]\n",
      " [0. 0. 0. 0. 0. 0. 0. 0. 0. 1.]\n",
      " [0. 0. 0. 1. 0. 0. 0. 0. 0. 0.]\n",
      " [0. 0. 0. 0. 0. 0. 0. 1. 0. 0.]\n",
      " [0. 0. 0. 0. 1. 0. 0. 0. 0. 0.]\n",
      " [0. 0. 0. 0. 0. 0. 1. 0. 0. 0.]\n",
      " [0. 0. 0. 0. 1. 0. 0. 0. 0. 0.]\n",
      " [0. 0. 0. 1. 0. 0. 0. 0. 0. 0.]\n",
      " [1. 0. 0. 0. 0. 0. 0. 0. 0. 0.]\n",
      " [0. 0. 0. 0. 0. 0. 0. 1. 0. 0.]\n",
      " [1. 0. 0. 0. 0. 0. 0. 0. 0. 0.]\n",
      " [0. 0. 1. 0. 0. 0. 0. 0. 0. 0.]\n",
      " [0. 0. 0. 0. 0. 0. 0. 0. 0. 1.]\n",
      " [0. 1. 0. 0. 0. 0. 0. 0. 0. 0.]\n",
      " [0. 0. 0. 0. 0. 0. 0. 1. 0. 0.]\n",
      " [0. 0. 0. 1. 0. 0. 0. 0. 0. 0.]\n",
      " [0. 0. 1. 0. 0. 0. 0. 0. 0. 0.]\n",
      " [0. 0. 0. 0. 0. 0. 0. 0. 0. 1.]\n",
      " [0. 0. 0. 0. 0. 0. 0. 1. 0. 0.]\n",
      " [0. 0. 0. 0. 0. 0. 0. 1. 0. 0.]\n",
      " [0. 0. 0. 0. 0. 0. 1. 0. 0. 0.]\n",
      " [0. 0. 1. 0. 0. 0. 0. 0. 0. 0.]\n",
      " [0. 0. 0. 0. 0. 0. 0. 1. 0. 0.]\n",
      " [0. 0. 0. 0. 0. 0. 0. 0. 1. 0.]\n",
      " [0. 0. 0. 0. 1. 0. 0. 0. 0. 0.]\n",
      " [0. 0. 0. 0. 0. 0. 0. 1. 0. 0.]\n",
      " [0. 0. 0. 1. 0. 0. 0. 0. 0. 0.]\n",
      " [0. 0. 0. 0. 0. 0. 1. 0. 0. 0.]\n",
      " [0. 1. 0. 0. 0. 0. 0. 0. 0. 0.]\n",
      " [0. 0. 0. 1. 0. 0. 0. 0. 0. 0.]\n",
      " [0. 0. 0. 0. 0. 0. 1. 0. 0. 0.]\n",
      " [0. 0. 0. 0. 0. 0. 0. 0. 0. 1.]\n",
      " [0. 0. 0. 1. 0. 0. 0. 0. 0. 0.]\n",
      " [0. 1. 0. 0. 0. 0. 0. 0. 0. 0.]\n",
      " [0. 0. 0. 0. 1. 0. 0. 0. 0. 0.]\n",
      " [0. 1. 0. 0. 0. 0. 0. 0. 0. 0.]\n",
      " [0. 0. 0. 0. 0. 0. 0. 1. 0. 0.]\n",
      " [0. 0. 0. 0. 0. 0. 1. 0. 0. 0.]\n",
      " [0. 0. 0. 0. 0. 0. 0. 0. 0. 1.]]\n"
     ]
    }
   ],
   "source": [
    "print(X_train.shape)\n",
    "print(X_test.shape)\n",
    "print(y_train.shape[0])\n",
    "print(y_train.shape)\n",
    "print(y_test.shape)\n",
    "print(y_train[1])\n",
    "print(y_test[1:100])"
   ]
  },
  {
   "cell_type": "code",
   "execution_count": 10,
   "metadata": {},
   "outputs": [],
   "source": [
    "y_train = to_categorical(y_train, 10)#-------------------converting values of mnist with 10 classes\n",
    "y_test = to_categorical(y_test, 10)"
   ]
  },
  {
   "cell_type": "code",
   "execution_count": 98,
   "metadata": {},
   "outputs": [],
   "source": [
    "#Each image has Intensity from 0 to 255\n",
    "X_train = X_train\n",
    "X_test = X_test"
   ]
  },
  {
   "cell_type": "code",
   "execution_count": null,
   "metadata": {},
   "outputs": [],
   "source": []
  },
  {
   "cell_type": "code",
   "execution_count": 99,
   "metadata": {},
   "outputs": [
    {
     "name": "stdout",
     "output_type": "stream",
     "text": [
      "(60000, 784)\n"
     ]
    }
   ],
   "source": [
    "                                                #we must change the shape of the images to 1d array(28*28)\n",
    "                                                    #for multipication 1*784\n",
    "num_pixels = 784\n",
    "X_train = X_train.reshape(X_train.shape[0],\n",
    "                         num_pixels)\n",
    "X_test = X_test.reshape(X_test.shape[0],\n",
    "                         num_pixels)\n",
    "print(X_train.shape)\n",
    "\n"
   ]
  },
  {
   "cell_type": "code",
   "execution_count": 100,
   "metadata": {},
   "outputs": [
    {
     "name": "stdout",
     "output_type": "stream",
     "text": [
      "(60000, 10)\n",
      "[[0. 0. 0. 0. 0. 0. 0. 0. 0. 0.]]\n"
     ]
    }
   ],
   "source": [
    "print(y_train.shape)\n",
    "predicted_output=np.zeros([1,10])\n",
    "print(predicted_output)\n",
    "acc=0"
   ]
  },
  {
   "cell_type": "code",
   "execution_count": 101,
   "metadata": {},
   "outputs": [
    {
     "name": "stdout",
     "output_type": "stream",
     "text": [
      "(60000, 10)\n",
      "[[0. 0. 0. 0. 0. 0. 0. 0. 0. 0.]]\n"
     ]
    }
   ],
   "source": [
    "print(y_train.shape)\n",
    "predicted_output=np.zeros([1,10])\n",
    "print(predicted_output)\n",
    "acc=0"
   ]
  },
  {
   "cell_type": "code",
   "execution_count": 102,
   "metadata": {},
   "outputs": [
    {
     "name": "stdout",
     "output_type": "stream",
     "text": [
      "Accuracy number 0 is 9.871666666666666 %\n",
      "Accuracy number 1 is 9.871666666666666 %\n",
      "Accuracy number 2 is 20.68 %\n",
      "Accuracy number 3 is 29.21166666666667 %\n",
      "Accuracy number 4 is 24.078333333333333 %\n",
      "Accuracy number 5 is 38.96 %\n",
      "Accuracy number 6 is 36.21666666666667 %\n",
      "Accuracy number 7 is 34.43333333333333 %\n",
      "Accuracy number 8 is 43.53666666666667 %\n",
      "Accuracy number 9 is 48.513333333333335 %\n",
      "Accuracy number 10 is 48.141666666666666 %\n",
      "Accuracy number 11 is 52.06833333333334 %\n",
      "Accuracy number 12 is 53.803333333333335 %\n",
      "Accuracy number 13 is 54.50833333333334 %\n",
      "Accuracy number 14 is 54.635 %\n",
      "Accuracy number 15 is 53.381666666666675 %\n",
      "Accuracy number 16 is 59.93333333333334 %\n",
      "Accuracy number 17 is 58.17 %\n",
      "Accuracy number 18 is 56.40666666666667 %\n",
      "Accuracy number 19 is 58.60666666666666 %\n",
      "Accuracy number 20 is 61.083333333333336 %\n",
      "Accuracy number 21 is 65.11333333333333 %\n",
      "Accuracy number 22 is 63.73833333333333 %\n",
      "Accuracy number 23 is 65.19 %\n",
      "Accuracy number 24 is 63.915 %\n",
      "Accuracy number 25 is 67.295 %\n",
      "Accuracy number 26 is 70.12666666666667 %\n",
      "Accuracy number 27 is 68.155 %\n",
      "Accuracy number 28 is 69.65166666666667 %\n",
      "Accuracy number 29 is 71.21166666666666 %\n",
      "Accuracy number 30 is 71.83833333333334 %\n",
      "Accuracy number 31 is 70.88666666666667 %\n",
      "Accuracy number 32 is 71.26166666666667 %\n",
      "Accuracy number 33 is 72.34666666666666 %\n",
      "Accuracy number 34 is 71.285 %\n",
      "Accuracy number 35 is 70.60499999999999 %\n",
      "Accuracy number 36 is 72.84666666666666 %\n",
      "Accuracy number 37 is 73.315 %\n",
      "Accuracy number 38 is 73.93666666666667 %\n",
      "Accuracy number 39 is 73.10833333333333 %\n",
      "Accuracy number 40 is 73.815 %\n",
      "Accuracy number 41 is 74.22999999999999 %\n",
      "Accuracy number 42 is 75.94833333333332 %\n",
      "Accuracy number 43 is 75.79666666666667 %\n",
      "Accuracy number 44 is 76.175 %\n",
      "Accuracy number 45 is 75.38666666666667 %\n",
      "Accuracy number 46 is 75.34166666666667 %\n",
      "Accuracy number 47 is 75.925 %\n",
      "Accuracy number 48 is 75.07166666666667 %\n",
      "Accuracy number 49 is 77.265 %\n",
      "Accuracy number 50 is 76.60666666666667 %\n",
      "Accuracy number 51 is 76.35666666666665 %\n",
      "Accuracy number 52 is 77.55666666666666 %\n",
      "Accuracy number 53 is 76.83333333333333 %\n",
      "Accuracy number 54 is 78.22 %\n",
      "Accuracy number 55 is 78.28 %\n",
      "Accuracy number 56 is 77.92833333333333 %\n",
      "Accuracy number 57 is 77.79166666666667 %\n",
      "Accuracy number 58 is 77.75 %\n",
      "Accuracy number 59 is 78.74833333333333 %\n",
      "Accuracy number 60 is 78.96666666666667 %\n",
      "Accuracy number 61 is 78.89666666666668 %\n",
      "Accuracy number 62 is 78.51666666666667 %\n",
      "Accuracy number 63 is 78.84333333333333 %\n",
      "Accuracy number 64 is 79.42166666666667 %\n",
      "Accuracy number 65 is 80.05833333333334 %\n",
      "Accuracy number 66 is 78.72666666666667 %\n",
      "Accuracy number 67 is 79.68499999999999 %\n",
      "Accuracy number 68 is 79.38833333333334 %\n",
      "Accuracy number 69 is 79.29666666666667 %\n",
      "Accuracy number 70 is 79.92166666666667 %\n",
      "Accuracy number 71 is 80.24833333333333 %\n",
      "Accuracy number 72 is 80.89666666666666 %\n",
      "Accuracy number 73 is 80.76 %\n",
      "Accuracy number 74 is 80.46 %\n",
      "Accuracy number 75 is 80.21166666666667 %\n",
      "Accuracy number 76 is 80.42666666666666 %\n",
      "Accuracy number 77 is 79.98666666666666 %\n",
      "Accuracy number 78 is 80.80666666666667 %\n",
      "Accuracy number 79 is 81.12333333333333 %\n",
      "Accuracy number 80 is 80.74333333333334 %\n",
      "Accuracy number 81 is 81.545 %\n",
      "Accuracy number 82 is 81.19333333333333 %\n",
      "Accuracy number 83 is 81.23666666666666 %\n",
      "Accuracy number 84 is 81.37166666666667 %\n",
      "Accuracy number 85 is 81.39333333333333 %\n",
      "Accuracy number 86 is 81.20333333333333 %\n",
      "Accuracy number 87 is 81.525 %\n",
      "Accuracy number 88 is 81.285 %\n",
      "Accuracy number 89 is 81.83833333333334 %\n",
      "Accuracy number 90 is 81.63333333333334 %\n",
      "Accuracy number 91 is 81.88333333333333 %\n",
      "Accuracy number 92 is 81.96333333333334 %\n",
      "Accuracy number 93 is 81.58333333333333 %\n",
      "Accuracy number 94 is 82.05333333333333 %\n",
      "Accuracy number 95 is 81.76666666666667 %\n",
      "Accuracy number 96 is 82.465 %\n",
      "Accuracy number 97 is 82.08666666666666 %\n",
      "Accuracy number 98 is 81.74666666666667 %\n",
      "Accuracy number 99 is 82.35333333333334 %\n",
      "Time elapsed 369.9198372364044\n"
     ]
    }
   ],
   "source": [
    "start = time.time()\n",
    "l=0\n",
    "l_max=100 #-----------------------------------settting number of neurons\n",
    "beta=0\n",
    "error=0\n",
    "for i in range(l_max):\n",
    "    \n",
    "    \n",
    "    \n",
    "    \n",
    "    \n",
    "    if(acc<90):\n",
    "        weights = np.random.rand(784,i)*100#------------------------------creating random weight matrix== features X num_neuron #nearon should be greater than feature\n",
    "        weights_transpose = np.transpose(weights)\n",
    "        weights.shape\n",
    "        h_new = np.dot(X_train,weights)#--------------------------finding value of h\n",
    "        h_inv = np.linalg.pinv(h_new)#-----------------------------finding pseudo inverse of h\n",
    "    \n",
    "        beta = np.dot(h_inv, y_train)#------------------finding beta\n",
    "    #print(beta.shape)\n",
    "    #print(h_new.shape)\n",
    "        predicted_output = np.dot(h_new,beta)#--------------------predicted output\n",
    "        #error = y_train - predicted_output\n",
    "        #print(predicted_output)\n",
    "        \n",
    "        \n",
    "    #print(predicted_output.shape)\n",
    "\n",
    "    k=0\n",
    "    j=0\n",
    "    for k in range(60000):\n",
    "        for j in range(10):\n",
    "            max_item=max(predicted_output[k][:])#------------------------------changing the maximum value as 1 and other as 0\n",
    "            if(predicted_output[k][j]==max_item):\n",
    "                predicted_output[k][j]=1\n",
    "    \n",
    "            else:\n",
    "                predicted_output[k][j]=0\n",
    "        \n",
    "   # print(predicted_output[i][:])    \n",
    "   # print(predicted_output.shape)  \n",
    "        #print(y_train)\n",
    "    acc = accuracy_score(predicted_output,y_train)#-----------------------------FInding accuracy\n",
    "    print(\"Accuracy number\", i, \"is\", + acc*100, \"%\")      \n",
    "end = time.time()\n",
    "print(\"Time elapsed\",end - start)\n",
    "    #print(error)\n",
    "    \n",
    "    #print(h_inv.shape)\n",
    "    #print(h_new.shape)\n",
    "    #print(beta)\n",
    "    #print(weights.shape)\n",
    "#print(error[1][9])"
   ]
  },
  {
   "cell_type": "code",
   "execution_count": null,
   "metadata": {},
   "outputs": [],
   "source": []
  },
  {
   "cell_type": "code",
   "execution_count": 77,
   "metadata": {},
   "outputs": [],
   "source": [
    "#print(error[1])\n",
    "#print(predicted_output[1])\n",
    "#print(y_train.size)\n",
    "#print(beta)\n"
   ]
  },
  {
   "cell_type": "code",
   "execution_count": 78,
   "metadata": {},
   "outputs": [],
   "source": [
    "#h_new = np.dot(X_train,weights)\n",
    "#h_new.shape"
   ]
  },
  {
   "cell_type": "code",
   "execution_count": 79,
   "metadata": {},
   "outputs": [],
   "source": [
    "#h_reshaped = np.reshape(h, (l, 784))\n",
    "#h_inv = np.linalg.pinv(h_new)\n",
    "#print(h_inv.shape)"
   ]
  },
  {
   "cell_type": "code",
   "execution_count": 80,
   "metadata": {},
   "outputs": [],
   "source": [
    "#beta = np.dot(h_inv, y_train)"
   ]
  },
  {
   "cell_type": "code",
   "execution_count": 81,
   "metadata": {},
   "outputs": [],
   "source": [
    "#print(beta)\n"
   ]
  },
  {
   "cell_type": "code",
   "execution_count": 82,
   "metadata": {},
   "outputs": [],
   "source": [
    "#predicted_output= np.dot(h_new, beta) #----------------------------------------------------predicting value \n",
    "#print(predicted_output.shape)"
   ]
  },
  {
   "cell_type": "code",
   "execution_count": 83,
   "metadata": {},
   "outputs": [],
   "source": [
    "#[1][:])"
   ]
  },
  {
   "cell_type": "code",
   "execution_count": 84,
   "metadata": {},
   "outputs": [],
   "source": [
    "#acc = accuracy_score(error,y_train)#-----------------------------FInding accuracy\n",
    "#print(\"Accuracy is\", + acc*100, \"%\")"
   ]
  },
  {
   "cell_type": "code",
   "execution_count": null,
   "metadata": {},
   "outputs": [],
   "source": []
  },
  {
   "cell_type": "code",
   "execution_count": null,
   "metadata": {},
   "outputs": [],
   "source": []
  }
 ],
 "metadata": {
  "kernelspec": {
   "display_name": "Python 3",
   "language": "python",
   "name": "python3"
  },
  "language_info": {
   "codemirror_mode": {
    "name": "ipython",
    "version": 3
   },
   "file_extension": ".py",
   "mimetype": "text/x-python",
   "name": "python",
   "nbconvert_exporter": "python",
   "pygments_lexer": "ipython3",
   "version": "3.7.4"
  }
 },
 "nbformat": 4,
 "nbformat_minor": 2
}
